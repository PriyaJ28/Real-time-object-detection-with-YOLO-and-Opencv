{
 "cells": [
  {
   "cell_type": "code",
   "execution_count": 1,
   "metadata": {},
   "outputs": [],
   "source": [
    "%matplotlib inline\n",
    "#The line above is necesary to show Matplotlib's plots inside a Jupyter Notebook\n",
    "\n",
    "import cv2\n",
    "from matplotlib import pyplot as plt\n",
    "import numpy as np\n",
    "import time"
   ]
  },
  {
   "cell_type": "code",
   "execution_count": 2,
   "metadata": {},
   "outputs": [
    {
     "name": "stdout",
     "output_type": "stream",
     "text": [
      "80\n"
     ]
    }
   ],
   "source": [
    "net = cv2.dnn.readNet(\"yolov3.weights\", \"yolov3.cfg\")\n",
    "classes = []\n",
    "with open(\"coco.names\",\"r\") as f:\n",
    "    classes = [line.strip() for line in f.readlines()]\n",
    "print(len(classes))"
   ]
  },
  {
   "cell_type": "code",
   "execution_count": 3,
   "metadata": {},
   "outputs": [],
   "source": [
    "layer_names = net.getLayerNames()\n",
    "output_layers = [layer_names[i[0]-1] for i in net.getUnconnectedOutLayers()]\n"
   ]
  },
  {
   "cell_type": "code",
   "execution_count": null,
   "metadata": {},
   "outputs": [],
   "source": [
    "#Loading image\n",
    "cap = cv2.VideoCapture(\"Busy street crossing in Hong Kong.mp4-.mp4\")\n",
    "font =cv2.FONT_HERSHEY_SIMPLEX\n",
    "starting_time = time.time()\n",
    "colors = np.random.uniform(0,255, size = (len(classes),3))\n",
    "frame_id = 0\n",
    "\n",
    "while True:\n",
    "    _,frame = cap.read()\n",
    "    height, width, channels = frame.shape \n",
    "    frame_id+=1\n",
    " \n",
    "    #detecting object\n",
    "    blob = cv2.dnn.blobFromImage(frame,0.00392,(320,320),(0,0,0),True, crop=False)\n",
    "\n",
    "    net.setInput(blob)\n",
    "    outs = net.forward(output_layers)\n",
    "    class_ids = []\n",
    "    confidences = []\n",
    "    boxes = []\n",
    "\n",
    "    for out in outs:\n",
    "        for detection in out:\n",
    "            scores = detection[5:]\n",
    "            class_id = np.argmax(scores)\n",
    "            confidence = scores[class_id]\n",
    "            if confidence>0.2:\n",
    "                #object detected\n",
    "                centre_x = int(detection[0]*width)\n",
    "                centre_y = int (detection[1]*height)\n",
    "                w  =int(detection[2]*width)\n",
    "                h = int (detection[3]*height)\n",
    "\n",
    "                #cv2.circle(img, (centre_x,centre_y), 10, (0,255,0), 2)\n",
    "                #rectangle coordinates\n",
    "                x = int(centre_x-w/2)\n",
    "                y = int(centre_y-h/2)\n",
    "\n",
    "                boxes.append([x,y,w,h])\n",
    "                confidences.append(float(confidence))\n",
    "                class_ids.append(class_id)\n",
    "\n",
    "    indexes = cv2.dnn.NMSBoxes(boxes, confidences, 0.5,0.4)\n",
    "    num_obj_detected = len(boxes)\n",
    "    \n",
    "    for i in range(num_obj_detected):\n",
    "        if i in indexes:\n",
    "            x,y,w,h = boxes[i]\n",
    "            label = str(classes[class_ids[i]])\n",
    "            confidence = confidences[i]\n",
    "            color = colors[i]\n",
    "            cv2.rectangle(frame, (x,y), (x+w,y+h),color ,2)\n",
    "            cv2.putText(frame, label, (x,y + 30), font,1,color, 3)\n",
    "            cv2.putText(frame, label+ str(round(confidence,2)),(x,y + 30), font,1,color, 3)\n",
    "    \n",
    "    time_elapsed  = time.time() - starting_time\n",
    "    fps = frame_id/time_elapsed\n",
    "    cv2.putText(frame, \"FPS: \"+str(round(fps,2)), (10,50), font,1,(0,255,0), 1)\n",
    "    cv2.imshow(\"Image\", frame)\n",
    "    key = cv2.waitKey(1)\n",
    "    if key == 27:\n",
    "        break\n",
    "\n",
    "cap.release()\n",
    "cv2.destroyAllWindows()   "
   ]
  }
 ],
 "metadata": {
  "kernelspec": {
   "display_name": "Python 3",
   "language": "python",
   "name": "python3"
  },
  "language_info": {
   "codemirror_mode": {
    "name": "ipython",
    "version": 3
   },
   "file_extension": ".py",
   "mimetype": "text/x-python",
   "name": "python",
   "nbconvert_exporter": "python",
   "pygments_lexer": "ipython3",
   "version": "3.7.3"
  }
 },
 "nbformat": 4,
 "nbformat_minor": 2
}
